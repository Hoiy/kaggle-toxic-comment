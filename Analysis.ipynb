{
 "cells": [
  {
   "cell_type": "code",
   "execution_count": 1,
   "metadata": {},
   "outputs": [],
   "source": [
    "import numpy as np\n",
    "import pandas as pd"
   ]
  },
  {
   "cell_type": "code",
   "execution_count": 2,
   "metadata": {},
   "outputs": [],
   "source": [
    "train = pd.read_csv(\"data/train.csv\")\n",
    "test = pd.read_csv(\"data/test.csv\")\n",
    "train = train.sample(frac=1)"
   ]
  },
  {
   "cell_type": "code",
   "execution_count": 3,
   "metadata": {},
   "outputs": [
    {
     "data": {
      "text/plain": [
       "count    95851.000000\n",
       "mean         0.096368\n",
       "std          0.295097\n",
       "min          0.000000\n",
       "25%          0.000000\n",
       "50%          0.000000\n",
       "75%          0.000000\n",
       "max          1.000000\n",
       "Name: toxic, dtype: float64"
      ]
     },
     "execution_count": 3,
     "metadata": {},
     "output_type": "execute_result"
    }
   ],
   "source": [
    "train[\"toxic\"].describe()"
   ]
  },
  {
   "cell_type": "code",
   "execution_count": 3,
   "metadata": {},
   "outputs": [],
   "source": [
    "list_sentences_train = train[\"comment_text\"].fillna(\"...\").values\n",
    "#list_classes = [\"toxic\", \"severe_toxic\", \"obscene\", \"threat\", \"insult\", \"identity_hate\"]\n",
    "list_classes = [\"toxic\"]\n",
    "y = train[list_classes].values\n",
    "list_sentences_test = test[\"comment_text\"].fillna(\"...\").values"
   ]
  },
  {
   "cell_type": "code",
   "execution_count": 6,
   "metadata": {},
   "outputs": [],
   "source": [
    "from keras.preprocessing import text, sequence\n",
    "\n",
    "max_features = 20000\n",
    "maxlen = 256\n",
    "\n",
    "tokenizer = text.Tokenizer(num_words=max_features)\n",
    "tokenizer.fit_on_texts(list(list_sentences_train))\n",
    "list_tokenized_train = tokenizer.texts_to_sequences(list_sentences_train)\n",
    "list_tokenized_test = tokenizer.texts_to_sequences(list_sentences_test)\n",
    "X_t = sequence.pad_sequences(list_tokenized_train, maxlen=maxlen)\n",
    "X_te = sequence.pad_sequences(list_tokenized_test, maxlen=maxlen)"
   ]
  },
  {
   "cell_type": "code",
   "execution_count": 9,
   "metadata": {},
   "outputs": [
    {
     "name": "stdout",
     "output_type": "stream",
     "text": [
      "_________________________________________________________________\n",
      "Layer (type)                 Output Shape              Param #   \n",
      "=================================================================\n",
      "input_2 (InputLayer)         (None, 256)               0         \n",
      "_________________________________________________________________\n",
      "embedding_2 (Embedding)      (None, 256, 64)           1280000   \n",
      "_________________________________________________________________\n",
      "global_max_pooling1d_2 (Glob (None, 64)                0         \n",
      "_________________________________________________________________\n",
      "dropout_2 (Dropout)          (None, 64)                0         \n",
      "_________________________________________________________________\n",
      "dense_2 (Dense)              (None, 1)                 65        \n",
      "=================================================================\n",
      "Total params: 1,280,065\n",
      "Trainable params: 1,280,065\n",
      "Non-trainable params: 0\n",
      "_________________________________________________________________\n"
     ]
    }
   ],
   "source": [
    "from keras.models import Model\n",
    "from keras.layers import Dense, Embedding, Input\n",
    "from keras.layers import LSTM, Bidirectional, GlobalMaxPool1D, Dropout, GRU, Conv1D, Reshape, MaxPooling1D\n",
    "from keras.callbacks import EarlyStopping, ModelCheckpoint\n",
    "from keras.regularizers import l2\n",
    "\n",
    "CONV_SIZE = 64\n",
    "LSTM_SIZE = 64\n",
    "EMB_SIZE = 64\n",
    "\n",
    "def get_model_orig():\n",
    "    embed_size = 64\n",
    "    inp = Input(shape=(maxlen, ))\n",
    "    x = Embedding(max_features, embed_size)(inp)\n",
    "    x = GlobalMaxPool1D()(x)\n",
    "    x = Dropout(0.1)(x)\n",
    "    x = Dense(1, activation=\"sigmoid\")(x)\n",
    "    model = Model(inputs=inp, outputs=x)\n",
    "    model.compile(loss='binary_crossentropy',\n",
    "                  optimizer='adam',\n",
    "                  metrics=['accuracy', 'binary_crossentropy'])\n",
    "\n",
    "    return model\n",
    "\n",
    "\n",
    "def get_model():\n",
    "    inp = Input(shape=(maxlen, ))\n",
    "    x = Embedding(max_features, EMB_SIZE, embeddings_regularizer=l2(1e-3))(inp)\n",
    "    #x = Reshape((maxlen, embed_size, 1))(x)\n",
    "    #x = Bidirectional(LSTM(LSTM_SIZE, return_sequences=True))(x)\n",
    "    x = Conv1D(CONV_SIZE, 2, strides=1, padding='valid', activation='selu')(x)\n",
    "    x = MaxPooling1D(2)(x)\n",
    "    x = Conv1D(CONV_SIZE, 2, strides=1, padding='valid', activation='selu')(x)\n",
    "    x = MaxPooling1D(2)(x)\n",
    "    x = Conv1D(CONV_SIZE, 2, strides=1, padding='valid', activation='selu')(x)\n",
    "    x = MaxPooling1D(2)(x)\n",
    "    x = Conv1D(CONV_SIZE, 2, strides=1, padding='valid', activation='selu')(x)\n",
    "    x = MaxPooling1D(2)(x)\n",
    "    x = Bidirectional(LSTM(LSTM_SIZE))(x)\n",
    "    #x = Dense(LSTM_SIZE, activation=\"selu\")(x)\n",
    "    x = Dense(len(list_classes), activation=\"sigmoid\")(x)\n",
    "    model = Model(inputs=inp, outputs=x)\n",
    "    model.compile(loss='binary_crossentropy',\n",
    "                  optimizer='adam',\n",
    "                  metrics=['accuracy', 'binary_crossentropy'])\n",
    "\n",
    "    return model\n",
    "\n",
    "model = get_model_orig()\n",
    "model.summary()"
   ]
  },
  {
   "cell_type": "code",
   "execution_count": 10,
   "metadata": {},
   "outputs": [
    {
     "name": "stdout",
     "output_type": "stream",
     "text": [
      "Train on 91058 samples, validate on 4793 samples\n",
      "Epoch 1/20000\n",
      "91058/91058 [==============================] - 42s 459us/step - loss: 0.1851 - acc: 0.9359 - binary_crossentropy: 0.1851 - val_loss: 0.1176 - val_acc: 0.9558 - val_binary_crossentropy: 0.1176\n",
      "Epoch 2/20000\n",
      "91058/91058 [==============================] - 41s 450us/step - loss: 0.0994 - acc: 0.9618 - binary_crossentropy: 0.0994 - val_loss: 0.1068 - val_acc: 0.9612 - val_binary_crossentropy: 0.1068\n",
      "Epoch 3/20000\n",
      "91058/91058 [==============================] - 42s 461us/step - loss: 0.0832 - acc: 0.9668 - binary_crossentropy: 0.0832 - val_loss: 0.1068 - val_acc: 0.9614 - val_binary_crossentropy: 0.1068\n",
      "Epoch 4/20000\n",
      "91058/91058 [==============================] - 41s 452us/step - loss: 0.0718 - acc: 0.9712 - binary_crossentropy: 0.0718 - val_loss: 0.1089 - val_acc: 0.9616 - val_binary_crossentropy: 0.1089\n",
      "Epoch 5/20000\n",
      "91058/91058 [==============================] - 42s 464us/step - loss: 0.0638 - acc: 0.9741 - binary_crossentropy: 0.0638 - val_loss: 0.1138 - val_acc: 0.9610 - val_binary_crossentropy: 0.1138\n",
      "Epoch 6/20000\n",
      "91058/91058 [==============================] - 42s 462us/step - loss: 0.0570 - acc: 0.9771 - binary_crossentropy: 0.0570 - val_loss: 0.1165 - val_acc: 0.9604 - val_binary_crossentropy: 0.1165\n",
      "Epoch 7/20000\n",
      "91058/91058 [==============================] - 42s 456us/step - loss: 0.0509 - acc: 0.9799 - binary_crossentropy: 0.0509 - val_loss: 0.1222 - val_acc: 0.9604 - val_binary_crossentropy: 0.1222\n",
      "Epoch 8/20000\n",
      "91058/91058 [==============================] - 42s 461us/step - loss: 0.0462 - acc: 0.9821 - binary_crossentropy: 0.0462 - val_loss: 0.1283 - val_acc: 0.9589 - val_binary_crossentropy: 0.1283\n"
     ]
    },
    {
     "data": {
      "text/plain": [
       "<keras.callbacks.History at 0x7f6be8a9efd0>"
      ]
     },
     "execution_count": 10,
     "metadata": {},
     "output_type": "execute_result"
    }
   ],
   "source": [
    "batch_size = 32\n",
    "epochs = 20000\n",
    "\n",
    "file_path=\"weights_base.best.hdf5\"\n",
    "checkpoint = ModelCheckpoint(file_path, monitor='val_loss', save_best_only=True)\n",
    "early = EarlyStopping(monitor=\"val_loss\", mode=\"min\", patience=5)\n",
    "callbacks_list = [checkpoint, early] #early\n",
    "model.fit(X_t, y, batch_size=batch_size, epochs=epochs, validation_split=0.05, callbacks=callbacks_list)"
   ]
  },
  {
   "cell_type": "code",
   "execution_count": 21,
   "metadata": {},
   "outputs": [],
   "source": [
    "model.load_weights(file_path)\n",
    "\n",
    "y_test = model.predict(X_te)\n",
    "\n",
    "\n",
    "\n",
    "sample_submission = pd.read_csv(\"./data/sample_submission.csv\")\n",
    "\n",
    "sample_submission[list_classes] = y_test\n",
    "\n",
    "\n",
    "\n",
    "sample_submission.to_csv(\"baseline.csv\", index=False)"
   ]
  },
  {
   "cell_type": "code",
   "execution_count": null,
   "metadata": {},
   "outputs": [],
   "source": []
  }
 ],
 "metadata": {
  "kernelspec": {
   "display_name": "Python 3",
   "language": "python",
   "name": "python3"
  },
  "language_info": {
   "codemirror_mode": {
    "name": "ipython",
    "version": 3
   },
   "file_extension": ".py",
   "mimetype": "text/x-python",
   "name": "python",
   "nbconvert_exporter": "python",
   "pygments_lexer": "ipython3",
   "version": "3.5.2+"
  }
 },
 "nbformat": 4,
 "nbformat_minor": 2
}
