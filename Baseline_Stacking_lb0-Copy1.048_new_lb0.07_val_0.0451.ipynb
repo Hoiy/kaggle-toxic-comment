{
 "cells": [
  {
   "cell_type": "code",
   "execution_count": 1,
   "metadata": {},
   "outputs": [],
   "source": [
    "import numpy as np\n",
    "import pandas as pd\n",
    "import matplotlib.pyplot as plt\n",
    "from sklearn.preprocessing import StandardScaler\n",
    "\n",
    "np.random.seed(2)"
   ]
  },
  {
   "cell_type": "code",
   "execution_count": 2,
   "metadata": {},
   "outputs": [],
   "source": [
    "train = pd.read_csv(\"data/train.csv\", index_col=0)\n",
    "test = pd.read_csv(\"data/test.csv\", index_col=0)"
   ]
  },
  {
   "cell_type": "code",
   "execution_count": 3,
   "metadata": {},
   "outputs": [],
   "source": [
    "train['comment_text'] = train['comment_text'].astype(str)\n",
    "test['comment_text'] = test['comment_text'].astype(str)"
   ]
  },
  {
   "cell_type": "code",
   "execution_count": 4,
   "metadata": {},
   "outputs": [],
   "source": [
    "def sample2():\n",
    "    train_set = train.sample(frac=0.8)\n",
    "    val_set = train.drop(train_set.index)\n",
    "    \n",
    "    class_weight = {0: len(train) / 2 / (len(train) - sum(train['toxic'])), 1: len(train) / 2 / sum(train['toxic']) }\n",
    "    \n",
    "    train_set = train_set.reset_index(drop=True)\n",
    "    val_set = val_set.reset_index(drop=True)\n",
    "    \n",
    "    print(train_set['toxic'].describe())\n",
    "    print(val_set['toxic'].describe())\n",
    "    \n",
    "    return train_set, val_set, class_weight"
   ]
  },
  {
   "cell_type": "code",
   "execution_count": 5,
   "metadata": {},
   "outputs": [
    {
     "name": "stdout",
     "output_type": "stream",
     "text": [
      "count    127657.000000\n",
      "mean          0.096133\n",
      "std           0.294774\n",
      "min           0.000000\n",
      "25%           0.000000\n",
      "50%           0.000000\n",
      "75%           0.000000\n",
      "max           1.000000\n",
      "Name: toxic, dtype: float64\n",
      "count    31914.000000\n",
      "mean         0.094692\n",
      "std          0.292794\n",
      "min          0.000000\n",
      "25%          0.000000\n",
      "50%          0.000000\n",
      "75%          0.000000\n",
      "max          1.000000\n",
      "Name: toxic, dtype: float64\n"
     ]
    }
   ],
   "source": [
    "train_set, val_set, class_weight = sample2()"
   ]
  },
  {
   "cell_type": "code",
   "execution_count": 6,
   "metadata": {},
   "outputs": [
    {
     "name": "stderr",
     "output_type": "stream",
     "text": [
      "/usr/local/lib/python3.5/dist-packages/h5py/__init__.py:36: FutureWarning: Conversion of the second argument of issubdtype from `float` to `np.floating` is deprecated. In future, it will be treated as `np.float64 == np.dtype(float).type`.\n",
      "  from ._conv import register_converters as _register_converters\n",
      "Using TensorFlow backend.\n"
     ]
    }
   ],
   "source": [
    "from keras.preprocessing import text, sequence\n",
    "\n",
    "max_features = 50000\n",
    "maxlen = 256\n",
    "\n",
    "tokenizer = text.Tokenizer(num_words=max_features)\n",
    "tokenizer.fit_on_texts(train['comment_text'].append(test['comment_text']))"
   ]
  },
  {
   "cell_type": "code",
   "execution_count": 7,
   "metadata": {},
   "outputs": [],
   "source": [
    "r_word_index = { v:k for k, v in tokenizer.word_index.items()}"
   ]
  },
  {
   "cell_type": "code",
   "execution_count": 8,
   "metadata": {},
   "outputs": [],
   "source": [
    "X_tr = sequence.pad_sequences(tokenizer.texts_to_sequences(train_set['comment_text']), maxlen=maxlen)\n",
    "X_va = sequence.pad_sequences(tokenizer.texts_to_sequences(val_set['comment_text']), maxlen=maxlen)\n",
    "X_te = sequence.pad_sequences(tokenizer.texts_to_sequences(test['comment_text']), maxlen=maxlen)\n",
    "\n",
    "list_classes = [\"toxic\", \"severe_toxic\", \"obscene\", \"threat\", \"insult\", \"identity_hate\"]\n",
    "other = [\"severe_toxic\", \"obscene\", \"threat\", \"insult\", \"identity_hate\"]\n",
    "\n",
    "y_tr = train_set[list_classes]\n",
    "y_va = val_set[list_classes]"
   ]
  },
  {
   "cell_type": "code",
   "execution_count": 17,
   "metadata": {},
   "outputs": [],
   "source": [
    "from keras.models import Model\n",
    "from keras.layers import Dense, Embedding, Input, Flatten, Activation\n",
    "from keras.layers import Lambda, RepeatVector, LSTM, Bidirectional, GlobalMaxPool1D, Dropout, GRU, Conv1D, Reshape, MaxPooling1D, Concatenate\n",
    "from keras.callbacks import EarlyStopping, ModelCheckpoint\n",
    "from keras.regularizers import l2\n",
    "from keras.constraints import non_neg, unit_norm\n",
    "\n",
    "DROPOUT=0.1\n",
    "\n",
    "def mixing_layer(pred, max_pool):\n",
    "    x = RepeatVector(len(list_classes))(pred)\n",
    "    x = Lambda(lambda x: x * (np.ones([len(list_classes), len(list_classes)]) - np.eye(len(list_classes))))(x)\n",
    "    c = Concatenate()([max_pool, x])\n",
    "    return c\n",
    "\n",
    "def get_model_mix_layer(): #0.0453\n",
    "    embed_size = len(list_classes) * 64\n",
    "    inp = Input(shape=(maxlen, ))\n",
    "    x = Embedding(max_features, embed_size)(inp)\n",
    "    x = GlobalMaxPool1D()(x)\n",
    "    x = Activation('selu')(x)\n",
    "    \n",
    "    x = Dropout(DROPOUT)(x)    \n",
    "    max_pool = Reshape([len(list_classes), -1])(x)\n",
    "\n",
    "    \n",
    "    pred = Dense(1, activation=\"sigmoid\")(max_pool)\n",
    "    pred = Flatten()(pred)\n",
    "    \n",
    "    mix = mixing_layer(pred, max_pool)\n",
    "    \n",
    "    x = Dense(1, activation='sigmoid')(mix)\n",
    "    x = Flatten()(x)\n",
    "\n",
    "    model = Model(inputs=inp, outputs=x)\n",
    "    model.compile(loss='binary_crossentropy',\n",
    "                  optimizer='adam',\n",
    "                  metrics=['accuracy', 'binary_crossentropy'])\n",
    "\n",
    "    return model\n",
    "\n",
    "\n",
    "def get_model(): #0.0463\n",
    "    embed_size = 300\n",
    "    inp = Input(shape=(maxlen, ))\n",
    "    x = Embedding(max_features, embed_size)(inp)\n",
    "    x = Activation('selu')(x)\n",
    "    emb = GlobalMaxPool1D()(x)\n",
    "    \n",
    "    #x = Dense(300, activation='selu')(emb)\n",
    "    x = Dense(6, activation='sigmoid')(emb)\n",
    "\n",
    "    model = Model(inputs=inp, outputs=x)\n",
    "    model.compile(loss='binary_crossentropy',\n",
    "                  optimizer='adam',\n",
    "                  metrics=['accuracy', 'binary_crossentropy'])\n",
    "\n",
    "    return model"
   ]
  },
  {
   "cell_type": "code",
   "execution_count": 19,
   "metadata": {
    "scrolled": true
   },
   "outputs": [
    {
     "name": "stdout",
     "output_type": "stream",
     "text": [
      "_________________________________________________________________\n",
      "Layer (type)                 Output Shape              Param #   \n",
      "=================================================================\n",
      "input_6 (InputLayer)         (None, 256)               0         \n",
      "_________________________________________________________________\n",
      "embedding_6 (Embedding)      (None, 256, 300)          15000000  \n",
      "_________________________________________________________________\n",
      "activation_6 (Activation)    (None, 256, 300)          0         \n",
      "_________________________________________________________________\n",
      "global_max_pooling1d_6 (Glob (None, 300)               0         \n",
      "_________________________________________________________________\n",
      "dense_7 (Dense)              (None, 6)                 1806      \n",
      "=================================================================\n",
      "Total params: 15,001,806\n",
      "Trainable params: 15,001,806\n",
      "Non-trainable params: 0\n",
      "_________________________________________________________________\n",
      "None\n",
      "Train on 127657 samples, validate on 31914 samples\n",
      "Epoch 1/2000\n",
      "127657/127657 [==============================] - 74s 577us/step - loss: 0.2847 - acc: 0.9562 - binary_crossentropy: 0.2847 - val_loss: 0.1315 - val_acc: 0.9636 - val_binary_crossentropy: 0.1315\n",
      "Epoch 2/2000\n",
      "127657/127657 [==============================] - 73s 573us/step - loss: 0.1196 - acc: 0.9636 - binary_crossentropy: 0.1196 - val_loss: 0.1037 - val_acc: 0.9656 - val_binary_crossentropy: 0.1037\n",
      "Epoch 3/2000\n",
      "127657/127657 [==============================] - 73s 570us/step - loss: 0.0864 - acc: 0.9711 - binary_crossentropy: 0.0864 - val_loss: 0.0711 - val_acc: 0.9771 - val_binary_crossentropy: 0.0711\n",
      "Epoch 4/2000\n",
      "127657/127657 [==============================] - 73s 572us/step - loss: 0.0615 - acc: 0.9797 - binary_crossentropy: 0.0615 - val_loss: 0.0577 - val_acc: 0.9806 - val_binary_crossentropy: 0.0577\n",
      "Epoch 5/2000\n",
      "127657/127657 [==============================] - 73s 573us/step - loss: 0.0515 - acc: 0.9820 - binary_crossentropy: 0.0515 - val_loss: 0.0529 - val_acc: 0.9815 - val_binary_crossentropy: 0.0529\n",
      "Epoch 6/2000\n",
      "127657/127657 [==============================] - 74s 579us/step - loss: 0.0464 - acc: 0.9833 - binary_crossentropy: 0.0464 - val_loss: 0.0504 - val_acc: 0.9819 - val_binary_crossentropy: 0.0504\n",
      "Epoch 7/2000\n",
      "127657/127657 [==============================] - 74s 581us/step - loss: 0.0428 - acc: 0.9844 - binary_crossentropy: 0.0428 - val_loss: 0.0489 - val_acc: 0.9822 - val_binary_crossentropy: 0.0489\n",
      "Epoch 8/2000\n",
      "127657/127657 [==============================] - 74s 578us/step - loss: 0.0398 - acc: 0.9853 - binary_crossentropy: 0.0398 - val_loss: 0.0478 - val_acc: 0.9825 - val_binary_crossentropy: 0.0478\n",
      "Epoch 9/2000\n",
      "127657/127657 [==============================] - 74s 581us/step - loss: 0.0372 - acc: 0.9862 - binary_crossentropy: 0.0372 - val_loss: 0.0471 - val_acc: 0.9827 - val_binary_crossentropy: 0.0471\n",
      "Epoch 10/2000\n",
      "127657/127657 [==============================] - 74s 577us/step - loss: 0.0349 - acc: 0.9872 - binary_crossentropy: 0.0349 - val_loss: 0.0467 - val_acc: 0.9828 - val_binary_crossentropy: 0.0467\n",
      "Epoch 11/2000\n",
      "127657/127657 [==============================] - 73s 569us/step - loss: 0.0327 - acc: 0.9880 - binary_crossentropy: 0.0327 - val_loss: 0.0465 - val_acc: 0.9829 - val_binary_crossentropy: 0.0465\n",
      "Epoch 12/2000\n",
      "127657/127657 [==============================] - 73s 570us/step - loss: 0.0308 - acc: 0.9888 - binary_crossentropy: 0.0308 - val_loss: 0.0463 - val_acc: 0.9831 - val_binary_crossentropy: 0.0463\n",
      "Epoch 13/2000\n",
      "127657/127657 [==============================] - 72s 561us/step - loss: 0.0289 - acc: 0.9895 - binary_crossentropy: 0.0289 - val_loss: 0.0464 - val_acc: 0.9830 - val_binary_crossentropy: 0.0464\n",
      "Epoch 14/2000\n",
      "127657/127657 [==============================] - 71s 559us/step - loss: 0.0272 - acc: 0.9901 - binary_crossentropy: 0.0272 - val_loss: 0.0465 - val_acc: 0.9831 - val_binary_crossentropy: 0.0465\n",
      "Epoch 15/2000\n",
      "127657/127657 [==============================] - 72s 561us/step - loss: 0.0255 - acc: 0.9908 - binary_crossentropy: 0.0255 - val_loss: 0.0468 - val_acc: 0.9832 - val_binary_crossentropy: 0.0468\n",
      "Epoch 16/2000\n",
      "127657/127657 [==============================] - 72s 561us/step - loss: 0.0239 - acc: 0.9915 - binary_crossentropy: 0.0239 - val_loss: 0.0472 - val_acc: 0.9831 - val_binary_crossentropy: 0.0472\n",
      "Epoch 17/2000\n",
      "127657/127657 [==============================] - 72s 562us/step - loss: 0.0224 - acc: 0.9921 - binary_crossentropy: 0.0224 - val_loss: 0.0478 - val_acc: 0.9829 - val_binary_crossentropy: 0.0478\n"
     ]
    },
    {
     "data": {
      "text/plain": [
       "<keras.callbacks.History at 0x7f1f500705f8>"
      ]
     },
     "execution_count": 19,
     "metadata": {},
     "output_type": "execute_result"
    }
   ],
   "source": [
    "np.random.seed(777)\n",
    "\n",
    "model = get_model()\n",
    "print(model.summary())\n",
    "\n",
    "batch_size = 1024\n",
    "epochs = 2000\n",
    "\n",
    "file_path=\"weights_base.best.hdf5\"\n",
    "checkpoint = ModelCheckpoint(file_path, monitor='val_loss', save_best_only=True)\n",
    "early = EarlyStopping(monitor=\"val_loss\", mode=\"min\", patience=5)\n",
    "callbacks_list = [checkpoint, early] #early\n",
    "model.fit(\n",
    "    X_tr, \n",
    "    y_tr, \n",
    "    class_weight=None, \n",
    "    validation_data=(X_va, y_va), \n",
    "    shuffle=True, \n",
    "    batch_size=batch_size, \n",
    "    epochs=epochs, \n",
    "    callbacks=callbacks_list\n",
    ")"
   ]
  },
  {
   "cell_type": "code",
   "execution_count": null,
   "metadata": {},
   "outputs": [],
   "source": []
  },
  {
   "cell_type": "code",
   "execution_count": null,
   "metadata": {},
   "outputs": [],
   "source": [
    "model.load_weights(file_path)\n",
    "\n",
    "\n",
    "pred = model.predict(X_va, batch_size=128)\n",
    "int_pred = pred >= 0.5"
   ]
  },
  {
   "cell_type": "code",
   "execution_count": null,
   "metadata": {},
   "outputs": [],
   "source": [
    "from sklearn import metrics\n",
    "\n",
    "for i, c in enumerate(list_classes):\n",
    "    print(c)\n",
    "    print(\"roc:\\t\\t%.3f\" % metrics.roc_auc_score(val_set[c], pred[:,i]))\n",
    "    print(\"f1:\\t\\t%.3f\" % metrics.f1_score(val_set[c], int_pred[:,i]))\n",
    "    print(\"precision:\\t%.3f\" % metrics.precision_score(val_set[c], int_pred[:,i]))\n",
    "    print(\"recall:\\t\\t%.3f\" %metrics.recall_score(val_set[c], int_pred[:,i]))\n",
    "    print(\"log loss:\\t%.3f\" %metrics.log_loss(val_set[c], pred[:,i]))\n",
    "\n",
    "    m = metrics.confusion_matrix(val_set[c], int_pred[:,i])\n",
    "    tp = m[1,1]\n",
    "    fp = m[0,1]\n",
    "    tn = m[0,0]\n",
    "    fn = m[1,0]\n",
    "    print(\"tp:\\t\\t%d\"%tp)\n",
    "    print(\"fp:\\t\\t%d\"%fp)\n",
    "    print(\"tn:\\t\\t%d\"%tn)\n",
    "    print(\"fn:\\t\\t%d\"%fn)\n",
    "    \n",
    "    print(\"tpr:\\t\\t%.3f\"%(tp / (tp+fn)))\n",
    "    print(\"fpr:\\t\\t%.3f\"%(fp / (fp+tn)))\n",
    "\n",
    "    \n",
    "    precision, recall, threshold = metrics.precision_recall_curve(val_set[c], pred[:,i])\n",
    "    plt.figure(0)\n",
    "    plt.step(recall, precision, color='b', alpha=0.2,\n",
    "         where='post')\n",
    "    plt.fill_between(recall, precision, step='post', alpha=0.2,\n",
    "         color='b')\n",
    "\n",
    "    plt.xlabel('Recall')\n",
    "    plt.ylabel('Precision')\n",
    "    plt.ylim([0.0, 1.0])\n",
    "    plt.xlim([0.0, 1.0])\n",
    "    plt.title('2-class Precision-Recall curve:')\n",
    "    plt.show()\n",
    "    \n",
    "    fpr, tpr, _ = metrics.roc_curve(val_set[c], pred[:,i])\n",
    "    plt.figure(1)\n",
    "    plt.plot([0, 1], [0, 1], 'k--')\n",
    "    plt.plot(fpr, tpr)\n",
    "    plt.xlabel('False positive rate')\n",
    "    plt.ylabel('True positive rate')\n",
    "    plt.title('ROC curve')\n",
    "    plt.legend(loc='best')\n",
    "    plt.show()"
   ]
  },
  {
   "cell_type": "code",
   "execution_count": null,
   "metadata": {},
   "outputs": [],
   "source": [
    "for i, row in val_set[(pred[:, 0] <= 0.1) & (val_set['toxic'] == 1)].sample(1).iterrows():\n",
    "    print(row['comment_text'])\n",
    "    print(row)"
   ]
  },
  {
   "cell_type": "code",
   "execution_count": null,
   "metadata": {},
   "outputs": [],
   "source": [
    "y_va != pred_va"
   ]
  },
  {
   "cell_type": "code",
   "execution_count": null,
   "metadata": {},
   "outputs": [],
   "source": [
    "model.load_weights(file_path)\n",
    "sample_submission = pd.read_csv(\"./data/sample_submission.csv\")\n",
    "\n",
    "sample_submission[list_classes] = y_test\n",
    "\n",
    "sample_submission.to_csv(\"baseline.csv\", index=False)"
   ]
  },
  {
   "cell_type": "code",
   "execution_count": null,
   "metadata": {
    "scrolled": true
   },
   "outputs": [],
   "source": [
    "model.load_weights(file_path)\n",
    "\n",
    "y_test = model.predict(X_te, batch_size=2048)\n",
    "\n",
    "sample_submission = pd.read_csv(\"./data/sample_submission.csv\")\n",
    "sample_submission[['toxic'] + other] = y_test\n",
    "sample_submission.to_csv(\"baseline.csv\", index=False)"
   ]
  },
  {
   "cell_type": "code",
   "execution_count": null,
   "metadata": {},
   "outputs": [],
   "source": []
  },
  {
   "cell_type": "code",
   "execution_count": null,
   "metadata": {},
   "outputs": [],
   "source": []
  }
 ],
 "metadata": {
  "kernelspec": {
   "display_name": "Python 3",
   "language": "python",
   "name": "python3"
  },
  "language_info": {
   "codemirror_mode": {
    "name": "ipython",
    "version": 3
   },
   "file_extension": ".py",
   "mimetype": "text/x-python",
   "name": "python",
   "nbconvert_exporter": "python",
   "pygments_lexer": "ipython3",
   "version": "3.5.2+"
  }
 },
 "nbformat": 4,
 "nbformat_minor": 2
}
