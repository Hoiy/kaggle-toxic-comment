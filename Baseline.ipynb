{
 "cells": [
  {
   "cell_type": "code",
   "execution_count": 1,
   "metadata": {},
   "outputs": [],
   "source": [
    "import numpy as np\n",
    "import pandas as pd"
   ]
  },
  {
   "cell_type": "code",
   "execution_count": 2,
   "metadata": {},
   "outputs": [
    {
     "name": "stdout",
     "output_type": "stream",
     "text": [
      "data_preprocess.csv\n",
      "glove.42B.300d.txt\n",
      "glove.42B.300d.zip\n",
      "glove.6B.100d.txt\n",
      "glove.6B.200d.txt\n",
      "glove.6B.300d.txt\n",
      "glove.6B.50d.txt\n",
      "glove.840B.300d.txt\n",
      "sample_submission.csv\n",
      "test.csv\n",
      "test_manual_features.csv\n",
      "train.csv\n",
      "train_manual_features.csv\n",
      "\n"
     ]
    }
   ],
   "source": [
    "from subprocess import check_output\n",
    "print(check_output([\"ls\", \"data\"]).decode(\"utf8\"))"
   ]
  },
  {
   "cell_type": "code",
   "execution_count": 3,
   "metadata": {},
   "outputs": [],
   "source": [
    "train = pd.read_csv(\"data/train.csv\")\n",
    "test = pd.read_csv(\"data/test.csv\")\n",
    "train = train.sample(frac=1)"
   ]
  },
  {
   "cell_type": "code",
   "execution_count": 4,
   "metadata": {},
   "outputs": [],
   "source": [
    "list_sentences_train = train[\"comment_text\"].fillna(\"...\").values\n",
    "list_classes = [\"toxic\", \"severe_toxic\", \"obscene\", \"threat\", \"insult\", \"identity_hate\"]\n",
    "#list_classes = [\"toxic\"]\n",
    "y = train[list_classes].values\n",
    "list_sentences_test = test[\"comment_text\"].fillna(\"...\").values"
   ]
  },
  {
   "cell_type": "code",
   "execution_count": 5,
   "metadata": {},
   "outputs": [
    {
     "name": "stderr",
     "output_type": "stream",
     "text": [
      "/usr/local/lib/python3.5/dist-packages/h5py/__init__.py:36: FutureWarning: Conversion of the second argument of issubdtype from `float` to `np.floating` is deprecated. In future, it will be treated as `np.float64 == np.dtype(float).type`.\n",
      "  from ._conv import register_converters as _register_converters\n",
      "Using TensorFlow backend.\n"
     ]
    }
   ],
   "source": [
    "from keras.preprocessing import text, sequence\n",
    "\n",
    "max_features = 20000\n",
    "maxlen = 256\n",
    "\n",
    "tokenizer = text.Tokenizer(num_words=max_features)\n",
    "tokenizer.fit_on_texts(list(list_sentences_train))\n",
    "list_tokenized_train = tokenizer.texts_to_sequences(list_sentences_train)\n",
    "list_tokenized_test = tokenizer.texts_to_sequences(list_sentences_test)\n",
    "X_t = sequence.pad_sequences(list_tokenized_train, maxlen=maxlen)\n",
    "X_te = sequence.pad_sequences(list_tokenized_test, maxlen=maxlen)"
   ]
  },
  {
   "cell_type": "code",
   "execution_count": null,
   "metadata": {},
   "outputs": [
    {
     "name": "stdout",
     "output_type": "stream",
     "text": [
      "_________________________________________________________________\n",
      "Layer (type)                 Output Shape              Param #   \n",
      "=================================================================\n",
      "input_1 (InputLayer)         (None, 256)               0         \n",
      "_________________________________________________________________\n",
      "embedding_1 (Embedding)      (None, 256, 64)           1280000   \n",
      "_________________________________________________________________\n",
      "global_max_pooling1d_1 (Glob (None, 64)                0         \n",
      "_________________________________________________________________\n",
      "dropout_1 (Dropout)          (None, 64)                0         \n",
      "_________________________________________________________________\n",
      "dense_1 (Dense)              (None, 6)                 390       \n",
      "=================================================================\n",
      "Total params: 1,280,390\n",
      "Trainable params: 1,280,390\n",
      "Non-trainable params: 0\n",
      "_________________________________________________________________\n"
     ]
    }
   ],
   "source": [
    "from keras.models import Model\n",
    "from keras.layers import Dense, Embedding, Input\n",
    "from keras.layers import LSTM, Bidirectional, GlobalMaxPool1D, Dropout, GRU, Conv1D, Reshape, MaxPooling1D\n",
    "from keras.callbacks import EarlyStopping, ModelCheckpoint\n",
    "from keras.regularizers import l2\n",
    "\n",
    "CONV_SIZE = 64\n",
    "LSTM_SIZE = 64\n",
    "EMB_SIZE = 64\n",
    "\n",
    "def get_model_orig():\n",
    "    embed_size = 64\n",
    "    inp = Input(shape=(maxlen, ))\n",
    "    x = Embedding(max_features, embed_size)(inp)\n",
    "    x = GlobalMaxPool1D()(x)\n",
    "    x = Dropout(0.1)(x)\n",
    "    x = Dense(6, activation=\"sigmoid\")(x)\n",
    "    model = Model(inputs=inp, outputs=x)\n",
    "    model.compile(loss='binary_crossentropy',\n",
    "                  optimizer='adam',\n",
    "                  metrics=['accuracy', 'binary_crossentropy'])\n",
    "\n",
    "    return model\n",
    "\n",
    "\n",
    "def get_model():\n",
    "    inp = Input(shape=(maxlen, ))\n",
    "    x = Embedding(max_features, EMB_SIZE, embeddings_regularizer=l2(1e-3))(inp)\n",
    "    #x = Reshape((maxlen, embed_size, 1))(x)\n",
    "    #x = Bidirectional(LSTM(LSTM_SIZE, return_sequences=True))(x)\n",
    "    x = Conv1D(CONV_SIZE, 2, strides=1, padding='valid', activation='selu')(x)\n",
    "    x = MaxPooling1D(2)(x)\n",
    "    x = Conv1D(CONV_SIZE, 2, strides=1, padding='valid', activation='selu')(x)\n",
    "    x = MaxPooling1D(2)(x)\n",
    "    x = Conv1D(CONV_SIZE, 2, strides=1, padding='valid', activation='selu')(x)\n",
    "    x = MaxPooling1D(2)(x)\n",
    "    x = Conv1D(CONV_SIZE, 2, strides=1, padding='valid', activation='selu')(x)\n",
    "    x = MaxPooling1D(2)(x)\n",
    "    x = Bidirectional(LSTM(LSTM_SIZE))(x)\n",
    "    #x = Dense(LSTM_SIZE, activation=\"selu\")(x)\n",
    "    x = Dense(len(list_classes), activation=\"sigmoid\")(x)\n",
    "    model = Model(inputs=inp, outputs=x)\n",
    "    model.compile(loss='binary_crossentropy',\n",
    "                  optimizer='adam',\n",
    "                  metrics=['accuracy', 'binary_crossentropy'])\n",
    "\n",
    "    return model\n",
    "\n",
    "model = get_model_orig()\n",
    "model.summary()"
   ]
  },
  {
   "cell_type": "code",
   "execution_count": null,
   "metadata": {},
   "outputs": [
    {
     "name": "stdout",
     "output_type": "stream",
     "text": [
      "Train on 91058 samples, validate on 4793 samples\n",
      "Epoch 1/20000\n",
      "91058/91058 [==============================] - 47s 521us/step - loss: 0.1168 - acc: 0.9663 - binary_crossentropy: 0.1168 - val_loss: 0.0706 - val_acc: 0.9759 - val_binary_crossentropy: 0.0706\n",
      "Epoch 2/20000\n",
      "91058/91058 [==============================] - 46s 503us/step - loss: 0.0603 - acc: 0.9792 - binary_crossentropy: 0.0603 - val_loss: 0.0605 - val_acc: 0.9790 - val_binary_crossentropy: 0.0605\n",
      "Epoch 3/20000\n",
      "91058/91058 [==============================] - 45s 491us/step - loss: 0.0534 - acc: 0.9809 - binary_crossentropy: 0.0534 - val_loss: 0.0572 - val_acc: 0.9795 - val_binary_crossentropy: 0.0572\n",
      "Epoch 4/20000\n",
      "91058/91058 [==============================] - 42s 463us/step - loss: 0.0498 - acc: 0.9817 - binary_crossentropy: 0.0498 - val_loss: 0.0565 - val_acc: 0.9800 - val_binary_crossentropy: 0.0565\n",
      "Epoch 5/20000\n",
      "91058/91058 [==============================] - 43s 468us/step - loss: 0.0474 - acc: 0.9825 - binary_crossentropy: 0.0474 - val_loss: 0.0551 - val_acc: 0.9802 - val_binary_crossentropy: 0.0551\n",
      "Epoch 6/20000\n",
      "91058/91058 [==============================] - 43s 468us/step - loss: 0.0451 - acc: 0.9831 - binary_crossentropy: 0.0451 - val_loss: 0.0545 - val_acc: 0.9803 - val_binary_crossentropy: 0.0545\n",
      "Epoch 7/20000\n",
      "91058/91058 [==============================] - 43s 475us/step - loss: 0.0431 - acc: 0.9838 - binary_crossentropy: 0.0431 - val_loss: 0.0539 - val_acc: 0.9804 - val_binary_crossentropy: 0.0539\n",
      "Epoch 8/20000\n",
      "67840/91058 [=====================>........] - ETA: 10s - loss: 0.0407 - acc: 0.9846 - binary_crossentropy: 0.0407"
     ]
    }
   ],
   "source": [
    "batch_size = 32\n",
    "epochs = 20000\n",
    "\n",
    "file_path=\"weights_base.best.hdf5\"\n",
    "checkpoint = ModelCheckpoint(file_path, monitor='val_loss', save_best_only=True)\n",
    "early = EarlyStopping(monitor=\"val_loss\", mode=\"min\", patience=5)\n",
    "callbacks_list = [checkpoint, early] #early\n",
    "model.fit(X_t, y, batch_size=batch_size, epochs=epochs, validation_split=0.2, callbacks=callbacks_list)"
   ]
  },
  {
   "cell_type": "code",
   "execution_count": 21,
   "metadata": {},
   "outputs": [],
   "source": [
    "model.load_weights(file_path)\n",
    "\n",
    "y_test = model.predict(X_te)\n",
    "\n",
    "\n",
    "\n",
    "sample_submission = pd.read_csv(\"./data/sample_submission.csv\")\n",
    "\n",
    "sample_submission[list_classes] = y_test\n",
    "\n",
    "\n",
    "\n",
    "sample_submission.to_csv(\"baseline.csv\", index=False)"
   ]
  },
  {
   "cell_type": "code",
   "execution_count": null,
   "metadata": {},
   "outputs": [],
   "source": []
  }
 ],
 "metadata": {
  "kernelspec": {
   "display_name": "Python 3",
   "language": "python",
   "name": "python3"
  },
  "language_info": {
   "codemirror_mode": {
    "name": "ipython",
    "version": 3
   },
   "file_extension": ".py",
   "mimetype": "text/x-python",
   "name": "python",
   "nbconvert_exporter": "python",
   "pygments_lexer": "ipython3",
   "version": "3.5.2+"
  }
 },
 "nbformat": 4,
 "nbformat_minor": 2
}
