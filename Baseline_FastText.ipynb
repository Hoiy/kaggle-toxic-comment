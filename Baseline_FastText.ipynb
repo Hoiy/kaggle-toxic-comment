{
 "cells": [
  {
   "cell_type": "code",
   "execution_count": 1,
   "metadata": {},
   "outputs": [],
   "source": [
    "import numpy as np\n",
    "import pandas as pd\n",
    "import matplotlib.pyplot as plt\n",
    "from sklearn.preprocessing import StandardScaler\n",
    "import fastText\n",
    "\n",
    "np.random.seed(123)"
   ]
  },
  {
   "cell_type": "code",
   "execution_count": 2,
   "metadata": {},
   "outputs": [],
   "source": [
    "train = pd.read_csv(\"data/train.csv\", index_col=0)\n",
    "test = pd.read_csv(\"data/test.csv\", index_col=0)"
   ]
  },
  {
   "cell_type": "code",
   "execution_count": 3,
   "metadata": {},
   "outputs": [],
   "source": [
    "train['comment_text'] = train['comment_text'].astype(str)\n",
    "test['comment_text'] = test['comment_text'].astype(str)"
   ]
  },
  {
   "cell_type": "code",
   "execution_count": 4,
   "metadata": {},
   "outputs": [],
   "source": [
    "# training\n",
    "#EMBEDDING_DIM = 300\n",
    "#train['comment_text'].append(test['comment_text']).to_csv('train_text.csv', index=False, header=False)\n",
    "#model = fasttext.skipgram('train_text.csv', 'model_skipgram', dim=EMBEDDING_DIM, thread=32)"
   ]
  },
  {
   "cell_type": "code",
   "execution_count": 5,
   "metadata": {},
   "outputs": [],
   "source": [
    "fasttext_skipgram_emb = fastText.load_model('data/wiki.en.bin')\n",
    "#fasttext_skipgram_emb = fasttext.load_model('model_skipgram.bin')\n",
    "EMBEDDING_DIM = len(fasttext_skipgram_emb.get_word_vector('test'))"
   ]
  },
  {
   "cell_type": "code",
   "execution_count": 6,
   "metadata": {},
   "outputs": [],
   "source": [
    "def sample():\n",
    "    train_set = train.sample(frac=0.8)\n",
    "    val_set = train.drop(train_set.index)\n",
    "    \n",
    "    class_weight = {0: len(train) / 2 / (len(train) - sum(train['toxic'])), 1: len(train) / 2 / sum(train['toxic']) }\n",
    "    \n",
    "    train_set = train_set.reset_index(drop=True)\n",
    "    val_set = val_set.reset_index(drop=True)\n",
    "    \n",
    "    print(train_set['toxic'].describe())\n",
    "    print(val_set['toxic'].describe())\n",
    "    \n",
    "    return train_set, val_set, class_weight"
   ]
  },
  {
   "cell_type": "code",
   "execution_count": 7,
   "metadata": {},
   "outputs": [
    {
     "name": "stdout",
     "output_type": "stream",
     "text": [
      "count    127657.000000\n",
      "mean          0.095772\n",
      "std           0.294280\n",
      "min           0.000000\n",
      "25%           0.000000\n",
      "50%           0.000000\n",
      "75%           0.000000\n",
      "max           1.000000\n",
      "Name: toxic, dtype: float64\n",
      "count    31914.000000\n",
      "mean         0.096133\n",
      "std          0.294779\n",
      "min          0.000000\n",
      "25%          0.000000\n",
      "50%          0.000000\n",
      "75%          0.000000\n",
      "max          1.000000\n",
      "Name: toxic, dtype: float64\n"
     ]
    }
   ],
   "source": [
    "train_set, val_set, class_weight = sample()"
   ]
  },
  {
   "cell_type": "code",
   "execution_count": 12,
   "metadata": {},
   "outputs": [],
   "source": [
    "from keras.preprocessing import text, sequence\n",
    "\n",
    "#max_features = 20000\n",
    "maxlen = 256\n",
    "\n",
    "#tokenizer = text.Tokenizer(num_words=max_features)\n",
    "tokenizer = text.Tokenizer()\n",
    "tokenizer.fit_on_texts(train['comment_text'].append(test['comment_text']))"
   ]
  },
  {
   "cell_type": "code",
   "execution_count": 13,
   "metadata": {},
   "outputs": [
    {
     "name": "stdout",
     "output_type": "stream",
     "text": [
      "394788\n"
     ]
    }
   ],
   "source": [
    "r_word_index = { v:k for k, v in tokenizer.word_index.items()}\n",
    "max_features = len(r_word_index)+1\n",
    "print(max_features)"
   ]
  },
  {
   "cell_type": "code",
   "execution_count": 14,
   "metadata": {},
   "outputs": [],
   "source": [
    "X_tr = sequence.pad_sequences(tokenizer.texts_to_sequences(train_set['comment_text']), maxlen=maxlen)\n",
    "X_va = sequence.pad_sequences(tokenizer.texts_to_sequences(val_set['comment_text']), maxlen=maxlen)\n",
    "X_te = sequence.pad_sequences(tokenizer.texts_to_sequences(test['comment_text']), maxlen=maxlen)\n",
    "\n",
    "list_classes = [\"toxic\", \"severe_toxic\", \"obscene\", \"threat\", \"insult\", \"identity_hate\"]\n",
    "#other = [\"severe_toxic\", \"obscene\", \"threat\", \"insult\", \"identity_hate\"]\n",
    "\n",
    "y_tr = train_set[list_classes]\n",
    "y_va = val_set[list_classes]"
   ]
  },
  {
   "cell_type": "code",
   "execution_count": 15,
   "metadata": {},
   "outputs": [
    {
     "data": {
      "text/plain": [
       "'\\nEMBEDDING_DIM = 300\\n\\nfrom tqdm import tqdm\\n\\nembeddings_index = {}\\nf = open(\"data/glove.6B.300d.txt\".format(EMBEDDING_DIM))\\nfor line in tqdm(f):\\n    values = line.split()\\n    word = values[0]\\n    coefs = np.asarray(values[1:], dtype=\\'float32\\')\\n    embeddings_index[word] = coefs\\nf.close()\\n\\nprint(\\'Found %s word vectors.\\' % len(embeddings_index))\\n'"
      ]
     },
     "execution_count": 15,
     "metadata": {},
     "output_type": "execute_result"
    }
   ],
   "source": [
    "\"\"\"\n",
    "EMBEDDING_DIM = 300\n",
    "\n",
    "from tqdm import tqdm\n",
    "\n",
    "embeddings_index = {}\n",
    "f = open(\"data/glove.6B.300d.txt\".format(EMBEDDING_DIM))\n",
    "for line in tqdm(f):\n",
    "    values = line.split()\n",
    "    word = values[0]\n",
    "    coefs = np.asarray(values[1:], dtype='float32')\n",
    "    embeddings_index[word] = coefs\n",
    "f.close()\n",
    "\n",
    "print('Found %s word vectors.' % len(embeddings_index))\n",
    "\"\"\""
   ]
  },
  {
   "cell_type": "code",
   "execution_count": 16,
   "metadata": {},
   "outputs": [],
   "source": [
    "word_index = tokenizer.word_index\n",
    "embedding_matrix = np.zeros((len(word_index) + 1, EMBEDDING_DIM))\n",
    "for word, i in word_index.items():\n",
    "    embedding_matrix[i] = fasttext_skipgram_emb.get_word_vector(word)\n",
    "    \"\"\"\n",
    "    embedding_vector = embeddings_index.get(word)\n",
    "    if embedding_vector is not None:\n",
    "        # words not found in embedding index will be all-zeros.\n",
    "        embedding_matrix[i] = embedding_vector\n",
    "    \"\"\""
   ]
  },
  {
   "cell_type": "code",
   "execution_count": 37,
   "metadata": {},
   "outputs": [],
   "source": [
    "from keras.models import Model\n",
    "from keras.layers import Dense, Embedding, Input, Flatten, Activation\n",
    "from keras.layers import Conv1D, MaxPooling1D, AveragePooling1D, Lambda, RepeatVector, LSTM, Bidirectional, GlobalMaxPooling1D, GlobalAveragePooling1D, Dropout, GRU, Conv1D, Reshape, MaxPooling1D, Concatenate\n",
    "from keras.callbacks import EarlyStopping, ModelCheckpoint\n",
    "from keras.regularizers import l2\n",
    "from keras.constraints import non_neg, unit_norm\n",
    "\n",
    "DROPOUT=0.5\n",
    "\n",
    "def mixing_layer(pred, emb):\n",
    "    x = RepeatVector(len(list_classes))(pred)\n",
    "    x = Lambda(lambda x: x * (np.ones([len(list_classes), len(list_classes)]) - np.eye(len(list_classes))))(x)\n",
    "    c = Concatenate()([emb, x])\n",
    "    return c\n",
    "\n",
    "\n",
    "def split_dense(emb_layer, activation):\n",
    "    k = []\n",
    "    for i in range(len(list_classes)):\n",
    "        k.append(Lambda(lambda x: x[:,i,:])(emb_layer))\n",
    "    k = [Dense(1, activation=activation)(s) for s in k]\n",
    "    return Concatenate()(k)    \n",
    "\n",
    "def min_max_pool(conv, step=2):\n",
    "    maxpool = MaxPooling1D(step)(conv)\n",
    "    minpool = MaxPooling1D(step)(Lambda((lambda x: -x))(conv))\n",
    "    \n",
    "    return Concatenate()([maxpool, minpool])\n",
    "\n",
    "def global_min_max_pool(conv):\n",
    "    maxpool = GlobalMaxPooling1D()(conv)\n",
    "    minpool = GlobalMaxPooling1D()(Lambda((lambda x: -x))(conv))\n",
    "    \n",
    "    return Concatenate()([maxpool, minpool])\n",
    "\n",
    "\n",
    "def get_model_mix_layer():\n",
    "    inp = Input(shape=(maxlen, ))\n",
    "    \n",
    "    emb = Embedding(embedding_matrix.shape[0], embedding_matrix.shape[1], weights=[embedding_matrix], trainable=False)(inp)\n",
    "    \n",
    "    conv = Conv1D(64, 8, activation='selu')(emb)\n",
    "    emb = MaxPooling1D(2)(conv)\n",
    "    \n",
    "    conv = Conv1D(64, 8, activation='selu')(emb)\n",
    "    emb = MaxPooling1D(2)(conv)\n",
    "    \n",
    "    emb = GlobalMaxPooling1D()(conv)\n",
    "    emb = Dropout(DROPOUT)(emb)\n",
    "    \n",
    "    final = Dense(6, activation='sigmoid')(emb)\n",
    "\n",
    "    model = Model(inputs=inp, outputs=final)\n",
    "    model.compile(loss='binary_crossentropy',\n",
    "                  optimizer='adam',\n",
    "                  metrics=['accuracy', 'binary_crossentropy'])\n",
    "\n",
    "    return model"
   ]
  },
  {
   "cell_type": "code",
   "execution_count": 38,
   "metadata": {
    "scrolled": true
   },
   "outputs": [
    {
     "name": "stdout",
     "output_type": "stream",
     "text": [
      "_________________________________________________________________\n",
      "Layer (type)                 Output Shape              Param #   \n",
      "=================================================================\n",
      "input_12 (InputLayer)        (None, 256)               0         \n",
      "_________________________________________________________________\n",
      "embedding_12 (Embedding)     (None, 256, 300)          118436400 \n",
      "_________________________________________________________________\n",
      "conv1d_26 (Conv1D)           (None, 249, 64)           153664    \n",
      "_________________________________________________________________\n",
      "max_pooling1d_18 (MaxPooling (None, 124, 64)           0         \n",
      "_________________________________________________________________\n",
      "conv1d_27 (Conv1D)           (None, 117, 64)           32832     \n",
      "_________________________________________________________________\n",
      "global_max_pooling1d_13 (Glo (None, 64)                0         \n",
      "_________________________________________________________________\n",
      "dropout_10 (Dropout)         (None, 64)                0         \n",
      "_________________________________________________________________\n",
      "dense_17 (Dense)             (None, 6)                 390       \n",
      "=================================================================\n",
      "Total params: 118,623,286\n",
      "Trainable params: 186,886\n",
      "Non-trainable params: 118,436,400\n",
      "_________________________________________________________________\n",
      "None\n",
      "Train on 127657 samples, validate on 31914 samples\n",
      "Epoch 1/2000\n",
      "127657/127657 [==============================] - 81s 637us/step - loss: 0.1522 - acc: 0.9535 - binary_crossentropy: 0.1522 - val_loss: 0.0748 - val_acc: 0.9748 - val_binary_crossentropy: 0.0748\n",
      "Epoch 2/2000\n",
      "127657/127657 [==============================] - 82s 640us/step - loss: 0.0799 - acc: 0.9751 - binary_crossentropy: 0.0799 - val_loss: 0.0728 - val_acc: 0.9762 - val_binary_crossentropy: 0.0728\n",
      "Epoch 3/2000\n",
      "127657/127657 [==============================] - 82s 643us/step - loss: 0.0694 - acc: 0.9775 - binary_crossentropy: 0.0694 - val_loss: 0.0590 - val_acc: 0.9795 - val_binary_crossentropy: 0.0590\n",
      "Epoch 4/2000\n",
      "127657/127657 [==============================] - 82s 646us/step - loss: 0.0630 - acc: 0.9790 - binary_crossentropy: 0.0630 - val_loss: 0.0570 - val_acc: 0.9797 - val_binary_crossentropy: 0.0570\n",
      "Epoch 5/2000\n",
      "127657/127657 [==============================] - 78s 610us/step - loss: 0.0594 - acc: 0.9800 - binary_crossentropy: 0.0594 - val_loss: 0.0579 - val_acc: 0.9797 - val_binary_crossentropy: 0.0579\n",
      "Epoch 6/2000\n",
      "127657/127657 [==============================] - 82s 646us/step - loss: 0.0571 - acc: 0.9804 - binary_crossentropy: 0.0571 - val_loss: 0.0569 - val_acc: 0.9800 - val_binary_crossentropy: 0.0569\n",
      "Epoch 7/2000\n",
      "127657/127657 [==============================] - 78s 608us/step - loss: 0.0547 - acc: 0.9811 - binary_crossentropy: 0.0547 - val_loss: 0.0579 - val_acc: 0.9790 - val_binary_crossentropy: 0.0579\n",
      "Epoch 8/2000\n",
      "127657/127657 [==============================] - 82s 645us/step - loss: 0.0516 - acc: 0.9821 - binary_crossentropy: 0.0516 - val_loss: 0.0563 - val_acc: 0.9800 - val_binary_crossentropy: 0.0563\n",
      "Epoch 9/2000\n",
      "127657/127657 [==============================] - 78s 609us/step - loss: 0.0490 - acc: 0.9828 - binary_crossentropy: 0.0490 - val_loss: 0.0576 - val_acc: 0.9791 - val_binary_crossentropy: 0.0576\n",
      "Epoch 10/2000\n",
      "127657/127657 [==============================] - 78s 610us/step - loss: 0.0475 - acc: 0.9832 - binary_crossentropy: 0.0475 - val_loss: 0.0580 - val_acc: 0.9788 - val_binary_crossentropy: 0.0580\n",
      "Epoch 11/2000\n",
      "127657/127657 [==============================] - 78s 610us/step - loss: 0.0459 - acc: 0.9837 - binary_crossentropy: 0.0459 - val_loss: 0.0584 - val_acc: 0.9799 - val_binary_crossentropy: 0.0584\n",
      "Epoch 12/2000\n",
      "127657/127657 [==============================] - 78s 609us/step - loss: 0.0442 - acc: 0.9843 - binary_crossentropy: 0.0442 - val_loss: 0.0605 - val_acc: 0.9798 - val_binary_crossentropy: 0.0605\n",
      "Epoch 13/2000\n",
      "127657/127657 [==============================] - 79s 616us/step - loss: 0.0415 - acc: 0.9851 - binary_crossentropy: 0.0415 - val_loss: 0.0642 - val_acc: 0.9796 - val_binary_crossentropy: 0.0642\n"
     ]
    },
    {
     "data": {
      "text/plain": [
       "<keras.callbacks.History at 0x7f1c24010fd0>"
      ]
     },
     "execution_count": 38,
     "metadata": {},
     "output_type": "execute_result"
    }
   ],
   "source": [
    "np.random.seed(777)\n",
    "\n",
    "\n",
    "model = get_model_mix_layer()\n",
    "print(model.summary())\n",
    "\n",
    "batch_size = 1024\n",
    "epochs = 2000\n",
    "\n",
    "file_path=\"weights_base.best.hdf5\"\n",
    "checkpoint = ModelCheckpoint(file_path, monitor='val_loss', save_best_only=True)\n",
    "early = EarlyStopping(monitor=\"val_loss\", mode=\"min\", patience=5)\n",
    "callbacks_list = [checkpoint, early] #early\n",
    "model.fit(\n",
    "    X_tr,\n",
    "    y_tr, \n",
    "    class_weight=None, \n",
    "    validation_data=(X_va, y_va), \n",
    "    shuffle=True, \n",
    "    batch_size=batch_size, \n",
    "    epochs=epochs, \n",
    "    callbacks=callbacks_list\n",
    ")"
   ]
  },
  {
   "cell_type": "code",
   "execution_count": null,
   "metadata": {},
   "outputs": [],
   "source": [
    "model.load_weights(file_path)\n",
    "\n",
    "\n",
    "pred = model.predict(X_va, batch_size=128)\n",
    "int_pred = pred >= 0.5"
   ]
  },
  {
   "cell_type": "code",
   "execution_count": null,
   "metadata": {},
   "outputs": [],
   "source": [
    "from sklearn import metrics\n",
    "\n",
    "for i, c in enumerate(list_classes):\n",
    "    print(c)\n",
    "    print(\"roc:\\t\\t%.3f\" % metrics.roc_auc_score(val_set[c], pred[:,i]))\n",
    "    print(\"f1:\\t\\t%.3f\" % metrics.f1_score(val_set[c], int_pred[:,i]))\n",
    "    print(\"precision:\\t%.3f\" % metrics.precision_score(val_set[c], int_pred[:,i]))\n",
    "    print(\"recall:\\t\\t%.3f\" %metrics.recall_score(val_set[c], int_pred[:,i]))\n",
    "    print(\"log loss:\\t%.3f\" %metrics.log_loss(val_set[c], pred[:,i]))\n",
    "\n",
    "    m = metrics.confusion_matrix(val_set[c], int_pred[:,i])\n",
    "    tp = m[1,1]\n",
    "    fp = m[0,1]\n",
    "    tn = m[0,0]\n",
    "    fn = m[1,0]\n",
    "    print(\"tp:\\t\\t%d\"%tp)\n",
    "    print(\"fp:\\t\\t%d\"%fp)\n",
    "    print(\"tn:\\t\\t%d\"%tn)\n",
    "    print(\"fn:\\t\\t%d\"%fn)\n",
    "    \n",
    "    print(\"tpr:\\t\\t%.3f\"%(tp / (tp+fn)))\n",
    "    print(\"fpr:\\t\\t%.3f\"%(fp / (fp+tn)))\n",
    "\n",
    "    \n",
    "    precision, recall, threshold = metrics.precision_recall_curve(val_set[c], pred[:,i])\n",
    "    plt.figure(0)\n",
    "    plt.step(recall, precision, color='b', alpha=0.2,\n",
    "         where='post')\n",
    "    plt.fill_between(recall, precision, step='post', alpha=0.2,\n",
    "         color='b')\n",
    "\n",
    "    plt.xlabel('Recall')\n",
    "    plt.ylabel('Precision')\n",
    "    plt.ylim([0.0, 1.0])\n",
    "    plt.xlim([0.0, 1.0])\n",
    "    plt.title('2-class Precision-Recall curve:')\n",
    "    plt.show()\n",
    "    \n",
    "    fpr, tpr, _ = metrics.roc_curve(val_set[c], pred[:,i])\n",
    "    plt.figure(1)\n",
    "    plt.plot([0, 1], [0, 1], 'k--')\n",
    "    plt.plot(fpr, tpr)\n",
    "    plt.xlabel('False positive rate')\n",
    "    plt.ylabel('True positive rate')\n",
    "    plt.title('ROC curve')\n",
    "    plt.legend(loc='best')\n",
    "    plt.show()"
   ]
  },
  {
   "cell_type": "code",
   "execution_count": null,
   "metadata": {},
   "outputs": [],
   "source": [
    "for i, row in val_set[(pred[:, 0] <= 0.1) & (val_set['toxic'] == 1)].sample(1).iterrows():\n",
    "    print(row['comment_text'])\n",
    "    print(row)"
   ]
  },
  {
   "cell_type": "code",
   "execution_count": null,
   "metadata": {},
   "outputs": [],
   "source": [
    "model.load_weights(file_path)\n",
    "sample_submission = pd.read_csv(\"./data/sample_submission.csv\")\n",
    "\n",
    "sample_submission[list_classes] = y_test\n",
    "\n",
    "sample_submission.to_csv(\"baseline.csv\", index=False)"
   ]
  },
  {
   "cell_type": "code",
   "execution_count": null,
   "metadata": {
    "scrolled": true
   },
   "outputs": [],
   "source": [
    "model.load_weights(file_path)\n",
    "\n",
    "y_test = model.predict([X_te, test[manual_features]], batch_size=2048)\n",
    "\n",
    "sample_submission = pd.read_csv(\"./data/sample_submission.csv\")\n",
    "sample_submission[list_classes] = y_test\n",
    "sample_submission.to_csv(\"baseline.csv\", index=False)"
   ]
  },
  {
   "cell_type": "code",
   "execution_count": null,
   "metadata": {},
   "outputs": [],
   "source": []
  },
  {
   "cell_type": "code",
   "execution_count": null,
   "metadata": {},
   "outputs": [],
   "source": [
    "tokenizer.word_counts['pagan']\n",
    "tokenizer.word_counts"
   ]
  },
  {
   "cell_type": "code",
   "execution_count": null,
   "metadata": {},
   "outputs": [],
   "source": []
  }
 ],
 "metadata": {
  "kernelspec": {
   "display_name": "Python 3",
   "language": "python",
   "name": "python3"
  },
  "language_info": {
   "codemirror_mode": {
    "name": "ipython",
    "version": 3
   },
   "file_extension": ".py",
   "mimetype": "text/x-python",
   "name": "python",
   "nbconvert_exporter": "python",
   "pygments_lexer": "ipython3",
   "version": "3.5.2+"
  }
 },
 "nbformat": 4,
 "nbformat_minor": 2
}
