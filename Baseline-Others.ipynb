{
 "cells": [
  {
   "cell_type": "code",
   "execution_count": 1,
   "metadata": {},
   "outputs": [],
   "source": [
    "import numpy as np\n",
    "import pandas as pd"
   ]
  },
  {
   "cell_type": "code",
   "execution_count": 2,
   "metadata": {},
   "outputs": [],
   "source": [
    "train = pd.read_csv(\"data/train.csv\")\n",
    "test = pd.read_csv(\"data/test.csv\")\n",
    "train = train.sample(frac=1)"
   ]
  },
  {
   "cell_type": "code",
   "execution_count": 3,
   "metadata": {},
   "outputs": [],
   "source": [
    "list_sentences_train = train[\"comment_text\"].fillna(\"...\").values\n",
    "list_classes = [\"severe_toxic\", \"obscene\", \"threat\", \"insult\", \"identity_hate\"]\n",
    "y = train[list_classes].values\n",
    "list_sentences_test = test[\"comment_text\"].fillna(\"...\").values"
   ]
  },
  {
   "cell_type": "code",
   "execution_count": 5,
   "metadata": {},
   "outputs": [],
   "source": [
    "from keras.preprocessing import text, sequence\n",
    "\n",
    "max_features = 20000\n",
    "maxlen = 256\n",
    "\n",
    "tokenizer = text.Tokenizer(num_words=max_features)\n",
    "tokenizer.fit_on_texts(list(list_sentences_train))\n",
    "list_tokenized_train = tokenizer.texts_to_sequences(list_sentences_train)\n",
    "list_tokenized_test = tokenizer.texts_to_sequences(list_sentences_test)\n",
    "X_t = sequence.pad_sequences(list_tokenized_train, maxlen=maxlen)\n",
    "X_te = sequence.pad_sequences(list_tokenized_test, maxlen=maxlen)"
   ]
  },
  {
   "cell_type": "code",
   "execution_count": 6,
   "metadata": {},
   "outputs": [
    {
     "name": "stdout",
     "output_type": "stream",
     "text": [
      "_________________________________________________________________\n",
      "Layer (type)                 Output Shape              Param #   \n",
      "=================================================================\n",
      "input_1 (InputLayer)         (None, 256)               0         \n",
      "_________________________________________________________________\n",
      "embedding_1 (Embedding)      (None, 256, 64)           1280000   \n",
      "_________________________________________________________________\n",
      "global_max_pooling1d_1 (Glob (None, 64)                0         \n",
      "_________________________________________________________________\n",
      "dropout_1 (Dropout)          (None, 64)                0         \n",
      "_________________________________________________________________\n",
      "dense_1 (Dense)              (None, 5)                 325       \n",
      "=================================================================\n",
      "Total params: 1,280,325\n",
      "Trainable params: 1,280,325\n",
      "Non-trainable params: 0\n",
      "_________________________________________________________________\n"
     ]
    }
   ],
   "source": [
    "from keras.models import Model\n",
    "from keras.layers import Dense, Embedding, Input\n",
    "from keras.layers import LSTM, Bidirectional, GlobalMaxPool1D, Dropout, GRU, Conv1D, Reshape, MaxPooling1D\n",
    "from keras.callbacks import EarlyStopping, ModelCheckpoint\n",
    "from keras.regularizers import l2\n",
    "\n",
    "CONV_SIZE = 64\n",
    "LSTM_SIZE = 64\n",
    "EMB_SIZE = 64\n",
    "\n",
    "def get_model_orig():\n",
    "    embed_size = 64\n",
    "    inp = Input(shape=(maxlen, ))\n",
    "    x = Embedding(max_features, embed_size)(inp)\n",
    "    x = GlobalMaxPool1D()(x)\n",
    "    x = Dropout(0.1)(x)\n",
    "    x = Dense(len(list_classes), activation=\"sigmoid\")(x)\n",
    "    model = Model(inputs=inp, outputs=x)\n",
    "    model.compile(loss='binary_crossentropy',\n",
    "                  optimizer='adam',\n",
    "                  metrics=['accuracy', 'binary_crossentropy'])\n",
    "\n",
    "    return model\n",
    "\n",
    "\n",
    "def get_model():\n",
    "    inp = Input(shape=(maxlen, ))\n",
    "    x = Embedding(max_features, EMB_SIZE, embeddings_regularizer=l2(1e-3))(inp)\n",
    "    #x = Reshape((maxlen, embed_size, 1))(x)\n",
    "    #x = Bidirectional(LSTM(LSTM_SIZE, return_sequences=True))(x)\n",
    "    x = Conv1D(CONV_SIZE, 2, strides=1, padding='valid', activation='selu')(x)\n",
    "    x = MaxPooling1D(2)(x)\n",
    "    x = Conv1D(CONV_SIZE, 2, strides=1, padding='valid', activation='selu')(x)\n",
    "    x = MaxPooling1D(2)(x)\n",
    "    x = Conv1D(CONV_SIZE, 2, strides=1, padding='valid', activation='selu')(x)\n",
    "    x = MaxPooling1D(2)(x)\n",
    "    x = Conv1D(CONV_SIZE, 2, strides=1, padding='valid', activation='selu')(x)\n",
    "    x = MaxPooling1D(2)(x)\n",
    "    x = Bidirectional(LSTM(LSTM_SIZE))(x)\n",
    "    #x = Dense(LSTM_SIZE, activation=\"selu\")(x)\n",
    "    x = Dense(len(list_classes), activation=\"sigmoid\")(x)\n",
    "    model = Model(inputs=inp, outputs=x)\n",
    "    model.compile(loss='binary_crossentropy',\n",
    "                  optimizer='adam',\n",
    "                  metrics=['accuracy', 'binary_crossentropy'])\n",
    "\n",
    "    return model\n",
    "\n",
    "model = get_model_orig()\n",
    "model.summary()"
   ]
  },
  {
   "cell_type": "code",
   "execution_count": 7,
   "metadata": {},
   "outputs": [
    {
     "name": "stdout",
     "output_type": "stream",
     "text": [
      "Train on 91058 samples, validate on 4793 samples\n",
      "Epoch 1/20000\n",
      "91058/91058 [==============================] - 37s 407us/step - loss: 0.1047 - acc: 0.9731 - binary_crossentropy: 0.1047 - val_loss: 0.0535 - val_acc: 0.9831 - val_binary_crossentropy: 0.0535\n",
      "Epoch 2/20000\n",
      "91058/91058 [==============================] - 37s 408us/step - loss: 0.0495 - acc: 0.9839 - binary_crossentropy: 0.0495 - val_loss: 0.0443 - val_acc: 0.9851 - val_binary_crossentropy: 0.0443\n",
      "Epoch 3/20000\n",
      "91058/91058 [==============================] - 37s 411us/step - loss: 0.0436 - acc: 0.9851 - binary_crossentropy: 0.0436 - val_loss: 0.0422 - val_acc: 0.9854 - val_binary_crossentropy: 0.0422\n",
      "Epoch 4/20000\n",
      "91058/91058 [==============================] - 36s 399us/step - loss: 0.0406 - acc: 0.9856 - binary_crossentropy: 0.0406 - val_loss: 0.0412 - val_acc: 0.9863 - val_binary_crossentropy: 0.0412\n",
      "Epoch 5/20000\n",
      "91058/91058 [==============================] - 37s 404us/step - loss: 0.0382 - acc: 0.9862 - binary_crossentropy: 0.0382 - val_loss: 0.0407 - val_acc: 0.9863 - val_binary_crossentropy: 0.0407\n",
      "Epoch 6/20000\n",
      "91058/91058 [==============================] - 37s 412us/step - loss: 0.0364 - acc: 0.9866 - binary_crossentropy: 0.0364 - val_loss: 0.0401 - val_acc: 0.9864 - val_binary_crossentropy: 0.0401\n",
      "Epoch 7/20000\n",
      "91058/91058 [==============================] - 37s 407us/step - loss: 0.0344 - acc: 0.9871 - binary_crossentropy: 0.0344 - val_loss: 0.0396 - val_acc: 0.9864 - val_binary_crossentropy: 0.0396\n",
      "Epoch 8/20000\n",
      "91058/91058 [==============================] - 36s 400us/step - loss: 0.0333 - acc: 0.9875 - binary_crossentropy: 0.0333 - val_loss: 0.0397 - val_acc: 0.9863 - val_binary_crossentropy: 0.0397\n",
      "Epoch 9/20000\n",
      "91058/91058 [==============================] - 36s 399us/step - loss: 0.0315 - acc: 0.9880 - binary_crossentropy: 0.0315 - val_loss: 0.0395 - val_acc: 0.9868 - val_binary_crossentropy: 0.0395\n",
      "Epoch 10/20000\n",
      "91058/91058 [==============================] - 37s 401us/step - loss: 0.0305 - acc: 0.9883 - binary_crossentropy: 0.0305 - val_loss: 0.0398 - val_acc: 0.9865 - val_binary_crossentropy: 0.0398\n",
      "Epoch 11/20000\n",
      "91058/91058 [==============================] - 37s 406us/step - loss: 0.0288 - acc: 0.9888 - binary_crossentropy: 0.0288 - val_loss: 0.0399 - val_acc: 0.9865 - val_binary_crossentropy: 0.0399\n",
      "Epoch 12/20000\n",
      "91058/91058 [==============================] - 37s 407us/step - loss: 0.0277 - acc: 0.9893 - binary_crossentropy: 0.0277 - val_loss: 0.0406 - val_acc: 0.9870 - val_binary_crossentropy: 0.0406\n",
      "Epoch 13/20000\n",
      "91058/91058 [==============================] - 36s 397us/step - loss: 0.0264 - acc: 0.9897 - binary_crossentropy: 0.0264 - val_loss: 0.0403 - val_acc: 0.9867 - val_binary_crossentropy: 0.0403\n",
      "Epoch 14/20000\n",
      "91058/91058 [==============================] - 37s 405us/step - loss: 0.0257 - acc: 0.9900 - binary_crossentropy: 0.0257 - val_loss: 0.0405 - val_acc: 0.9864 - val_binary_crossentropy: 0.0405\n"
     ]
    },
    {
     "data": {
      "text/plain": [
       "<keras.callbacks.History at 0x7ff1b3ecb780>"
      ]
     },
     "execution_count": 7,
     "metadata": {},
     "output_type": "execute_result"
    }
   ],
   "source": [
    "batch_size = 32\n",
    "epochs = 20000\n",
    "\n",
    "file_path=\"weights_base.best.hdf5\"\n",
    "checkpoint = ModelCheckpoint(file_path, monitor='val_loss', save_best_only=True)\n",
    "early = EarlyStopping(monitor=\"val_loss\", mode=\"min\", patience=5)\n",
    "callbacks_list = [checkpoint, early] #early\n",
    "model.fit(X_t, y, batch_size=batch_size, epochs=epochs, validation_split=0.05, callbacks=callbacks_list)"
   ]
  },
  {
   "cell_type": "code",
   "execution_count": 21,
   "metadata": {},
   "outputs": [],
   "source": [
    "model.load_weights(file_path)\n",
    "\n",
    "y_test = model.predict(X_te)\n",
    "\n",
    "\n",
    "\n",
    "sample_submission = pd.read_csv(\"./data/sample_submission.csv\")\n",
    "\n",
    "sample_submission[list_classes] = y_test\n",
    "\n",
    "\n",
    "\n",
    "sample_submission.to_csv(\"baseline.csv\", index=False)"
   ]
  },
  {
   "cell_type": "code",
   "execution_count": null,
   "metadata": {},
   "outputs": [],
   "source": []
  }
 ],
 "metadata": {
  "kernelspec": {
   "display_name": "Python 3",
   "language": "python",
   "name": "python3"
  },
  "language_info": {
   "codemirror_mode": {
    "name": "ipython",
    "version": 3
   },
   "file_extension": ".py",
   "mimetype": "text/x-python",
   "name": "python",
   "nbconvert_exporter": "python",
   "pygments_lexer": "ipython3",
   "version": "3.5.2+"
  }
 },
 "nbformat": 4,
 "nbformat_minor": 2
}
